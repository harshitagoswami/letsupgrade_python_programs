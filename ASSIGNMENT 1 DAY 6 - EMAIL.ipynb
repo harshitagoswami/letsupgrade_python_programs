{
 "cells": [
  {
   "cell_type": "code",
   "execution_count": 1,
   "metadata": {},
   "outputs": [
    {
     "name": "stdout",
     "output_type": "stream",
     "text": [
      "Requirement already satisfied: emails in c:\\users\\a\\anaconda3\\lib\\site-packages (0.6)\n",
      "Requirement already satisfied: lxml in c:\\users\\a\\anaconda3\\lib\\site-packages (from emails) (4.6.1)\n",
      "Requirement already satisfied: premailer in c:\\users\\a\\anaconda3\\lib\\site-packages (from emails) (3.7.0)\n",
      "Requirement already satisfied: python-dateutil in c:\\users\\a\\anaconda3\\lib\\site-packages (from emails) (2.8.1)\n",
      "Requirement already satisfied: chardet in c:\\users\\a\\anaconda3\\lib\\site-packages (from emails) (3.0.4)\n",
      "Requirement already satisfied: cssutils in c:\\users\\a\\anaconda3\\lib\\site-packages (from emails) (1.0.2)\n",
      "Requirement already satisfied: requests in c:\\users\\a\\anaconda3\\lib\\site-packages (from emails) (2.24.0)\n",
      "Requirement already satisfied: cachetools in c:\\users\\a\\anaconda3\\lib\\site-packages (from premailer->emails) (4.2.0)\n",
      "Requirement already satisfied: cssselect in c:\\users\\a\\anaconda3\\lib\\site-packages (from premailer->emails) (1.1.0)\n",
      "Requirement already satisfied: six>=1.5 in c:\\users\\a\\anaconda3\\lib\\site-packages (from python-dateutil->emails) (1.15.0)\n",
      "Requirement already satisfied: idna<3,>=2.5 in c:\\users\\a\\anaconda3\\lib\\site-packages (from requests->emails) (2.10)\n",
      "Requirement already satisfied: urllib3!=1.25.0,!=1.25.1,<1.26,>=1.21.1 in c:\\users\\a\\anaconda3\\lib\\site-packages (from requests->emails) (1.25.11)\n",
      "Requirement already satisfied: certifi>=2017.4.17 in c:\\users\\a\\anaconda3\\lib\\site-packages (from requests->emails) (2020.6.20)\n"
     ]
    }
   ],
   "source": [
    "!pip install emails"
   ]
  },
  {
   "cell_type": "code",
   "execution_count": 3,
   "metadata": {},
   "outputs": [],
   "source": [
    "import emails\n",
    "html_text = '''<p style=\"text-align: justify;\"><span style=\"background-color: rgb(251, 160, 38);\"><strong><span style=\"font-family: Comic Sans MS, sans-serif;\">Hey theSanghibiker,</span></strong></span></p>\n",
    "               <p style=\"text-align: justify;\"><span style=\"font-family: Comic Sans MS, sans-serif;\"><strong><span style=\"background-color: rgb(84, 172, 210);\">This mail is to inform you that I&apos;ve used python to send you this mail.💌I love you so much. Thank you for all your support, hun. 🥰😘</span></strong></span></p>\n",
    "               <p style=\"text-align: justify;\"><span style=\"font-family: Comic Sans MS, sans-serif;\"><strong><br></strong></span></p>\n",
    "               <p style=\"text-align: justify;\"><span style=\"font-family: Comic Sans MS, sans-serif;\"><strong><span style=\"background-color: rgb(226, 80, 65);\">Yours,</span></strong></span></p>\n",
    "               <p style=\"text-align: justify;\"><span style=\"background-color: rgb(226, 80, 65);\"><strong><span style=\"font-family: Comic Sans MS, sans-serif;\">Aloo. 🙈</span></strong></span></p>'''\n",
    "message = emails.html(html = html_text, subject = 'Very important check right now' , mail_from = ('PUT NAME OF SENDER', 'PUT SENDER EMAIL ID'))"
   ]
  },
  {
   "cell_type": "code",
   "execution_count": 4,
   "metadata": {},
   "outputs": [],
   "source": [
    "mail_via_python = message.send (to='PUT RECEIVER EMAIL ID', smtp= {'host': 'smtp.gmail.com', 'timeout':5, 'port': 587, 'user':'PUT SENDER EMAIL ID', 'password': 'PUT SENDER EMAIL ID PASSWORD', 'tls': True})"
   ]
  },
  {
   "cell_type": "code",
   "execution_count": null,
   "metadata": {},
   "outputs": [],
   "source": [
    "mail_via_python"
   ]
  }
 ],
 "metadata": {
  "kernelspec": {
   "display_name": "Python 3",
   "language": "python",
   "name": "python3"
  },
  "language_info": {
   "codemirror_mode": {
    "name": "ipython",
    "version": 3
   },
   "file_extension": ".py",
   "mimetype": "text/x-python",
   "name": "python",
   "nbconvert_exporter": "python",
   "pygments_lexer": "ipython3",
   "version": "3.8.5"
  }
 },
 "nbformat": 4,
 "nbformat_minor": 4
}
